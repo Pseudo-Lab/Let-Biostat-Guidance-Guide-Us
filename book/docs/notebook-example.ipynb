import pandas as pd
pd.options.plotting.backend = "plotly"

df = pd.DataFrame(dict(a=[1,3,2], b=[3,2,1]))
fig = df.plot()
fig.show()